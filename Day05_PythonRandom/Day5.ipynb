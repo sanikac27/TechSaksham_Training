{
 "cells": [
  {
   "cell_type": "code",
   "execution_count": 2,
   "id": "891d06cd-2499-4c8a-b900-95a25256af4a",
   "metadata": {},
   "outputs": [
    {
     "name": "stdout",
     "output_type": "stream",
     "text": [
      "\n",
      "Arithmetic Operations:\n",
      "1. Addition\n",
      "2. Subtraction\n",
      "3. Multiplication\n",
      "4. Division\n",
      "5. Modulus\n",
      "6. Exit\n"
     ]
    },
    {
     "name": "stdin",
     "output_type": "stream",
     "text": [
      "Enter your choice (1-6):  1\n",
      "Enter how many numbers you want to perform operation on:  3\n",
      "Enter number 1:  4\n",
      "Enter number 2:  5\n",
      "Enter number 3:  67\n"
     ]
    },
    {
     "name": "stdout",
     "output_type": "stream",
     "text": [
      "Result: 76.0\n",
      "\n",
      "Arithmetic Operations:\n",
      "1. Addition\n",
      "2. Subtraction\n",
      "3. Multiplication\n",
      "4. Division\n",
      "5. Modulus\n",
      "6. Exit\n"
     ]
    },
    {
     "name": "stdin",
     "output_type": "stream",
     "text": [
      "Enter your choice (1-6):  6\n"
     ]
    },
    {
     "name": "stdout",
     "output_type": "stream",
     "text": [
      "Exiting... Goodbye!\n"
     ]
    }
   ],
   "source": [
    "def add(numbers):\n",
    "    return sum(numbers)\n",
    "\n",
    "def subtract(numbers):\n",
    "    result = numbers[0]\n",
    "    for num in numbers[1:]:\n",
    "        result -= num\n",
    "    return result\n",
    "\n",
    "def multiply(numbers):\n",
    "    result = 1\n",
    "    for num in numbers:\n",
    "        result *= num\n",
    "    return result\n",
    "\n",
    "def divide(numbers):\n",
    "    result = numbers[0]\n",
    "    try:\n",
    "        for num in numbers[1:]:\n",
    "            if num == 0:\n",
    "                raise ValueError(\"Can not divide by zero\")\n",
    "            reult /= num\n",
    "    except ValueError as e:\n",
    "        return str(e)\n",
    "    return result\n",
    "\n",
    "def modulus(numbers):\n",
    "    result = numbers[0]\n",
    "    for num in numbers[1:]:\n",
    "        result %= num\n",
    "    return result\n",
    "\n",
    "def get_numbers():\n",
    "    count = int(input(\"Enter how many numbers you want to perform operation on: \"))\n",
    "    numbers = [float(input(f\"Enter number {i+1}: \")) for i in range(count)]\n",
    "    return numbers\n",
    "\n",
    "def main():\n",
    "    while True:\n",
    "        print(\"\\nArithmetic Operations:\")\n",
    "        print(\"1. Addition\")\n",
    "        print(\"2. Subtraction\")\n",
    "        print(\"3. Multiplication\")\n",
    "        print(\"4. Division\")\n",
    "        print(\"5. Modulus\")\n",
    "        print(\"6. Exit\")\n",
    "        \n",
    "        choice = input(\"Enter your choice (1-6): \")\n",
    "        \n",
    "        if choice == '6':\n",
    "            print(\"Exiting... Goodbye!\")\n",
    "            break\n",
    "        \n",
    "        numbers = get_numbers()\n",
    "        \n",
    "        operations = {\n",
    "            '1': add,\n",
    "            '2': subtract,\n",
    "            '3': multiply,\n",
    "            '4': divide,\n",
    "            '5': modulus\n",
    "        }\n",
    "        \n",
    "        if choice in operations:\n",
    "            result = operations[choice](numbers)\n",
    "            print(f\"Result: {result}\")\n",
    "        else:\n",
    "            print(\"Invalid choice! Please select a valid operation.\")\n",
    "\n",
    "if __name__ == \"__main__\":\n",
    "    main()\n"
   ]
  },
  {
   "cell_type": "code",
   "execution_count": 4,
   "id": "53809e7a-9daf-417a-a2de-8aed97a2aa0d",
   "metadata": {},
   "outputs": [
    {
     "name": "stdin",
     "output_type": "stream",
     "text": [
      "Enter names : Arpita Siddhi Sanika\n"
     ]
    },
    {
     "name": "stdout",
     "output_type": "stream",
     "text": [
      "Person paying the bill:  Siddhi\n"
     ]
    }
   ],
   "source": [
    "import random\n",
    "def random_choice(names):\n",
    "    n=len(names)\n",
    "    return random.randint(0, n-1)\n",
    "\n",
    "string = input(\"Enter names :\")\n",
    "names = string.split()\n",
    "selected = random_choice(names)\n",
    "print(\"Person paying the bill: \", names[selected])"
   ]
  },
  {
   "cell_type": "code",
   "execution_count": 8,
   "id": "036ede98-9dd3-45d4-be81-e33a78c1cb3b",
   "metadata": {},
   "outputs": [
    {
     "name": "stdout",
     "output_type": "stream",
     "text": [
      "You have 7 chances to guess it right!!!\n",
      "Let'ssss goooo\n"
     ]
    },
    {
     "name": "stdin",
     "output_type": "stream",
     "text": [
      "Enter your guess: 50\n"
     ]
    },
    {
     "name": "stdout",
     "output_type": "stream",
     "text": [
      "Nope!! Your guess is high!!!\n"
     ]
    },
    {
     "name": "stdin",
     "output_type": "stream",
     "text": [
      "Enter your guess: 30\n"
     ]
    },
    {
     "name": "stdout",
     "output_type": "stream",
     "text": [
      "Nope!! Your guess is high!!!\n"
     ]
    },
    {
     "name": "stdin",
     "output_type": "stream",
     "text": [
      "Enter your guess: 20\n"
     ]
    },
    {
     "name": "stdout",
     "output_type": "stream",
     "text": [
      "Nope!! Your guess is low!!!\n"
     ]
    },
    {
     "name": "stdin",
     "output_type": "stream",
     "text": [
      "Enter your guess: 15\n"
     ]
    },
    {
     "name": "stdout",
     "output_type": "stream",
     "text": [
      "Nope!! Your guess is low!!!\n"
     ]
    },
    {
     "name": "stdin",
     "output_type": "stream",
     "text": [
      "Enter your guess: 26\n"
     ]
    },
    {
     "name": "stdout",
     "output_type": "stream",
     "text": [
      "Nope!! Your guess is high!!!\n"
     ]
    },
    {
     "name": "stdin",
     "output_type": "stream",
     "text": [
      "Enter your guess: 22\n"
     ]
    },
    {
     "name": "stdout",
     "output_type": "stream",
     "text": [
      "Nope!! Your guess is low!!!\n"
     ]
    },
    {
     "name": "stdin",
     "output_type": "stream",
     "text": [
      "Enter your guess: 25\n"
     ]
    },
    {
     "name": "stdout",
     "output_type": "stream",
     "text": [
      "Yesss!! You Guessed it Rightt!!!\n",
      "Good Job!!\n"
     ]
    }
   ],
   "source": [
    "def generate_number():\n",
    "    num = int(random.random() * 100)\n",
    "    return num\n",
    "\n",
    "def check_guess(num, guess):\n",
    "    if(num == guess):\n",
    "        print(\"Yesss!! You Guessed it Rightt!!!\")\n",
    "        return True\n",
    "    elif guess > num:\n",
    "        print(\"Nope!! Your guess is high!!!\")\n",
    "    else:\n",
    "        print(\"Nope!! Your guess is low!!!\")\n",
    "    return False\n",
    "\n",
    "def play_game(num):\n",
    "    count = 1\n",
    "    while(count <= 7):\n",
    "        guess = int(input(\"Enter your guess:\"))\n",
    "        if check_guess(num, guess):\n",
    "            print(\"Good Job!!\")\n",
    "            return\n",
    "        count += 1\n",
    "    print(\"Oopss! You're out of count!!!\")\n",
    "\n",
    "num = generate_number()\n",
    "print(\"You have 7 chances to guess it right!!!\")\n",
    "print(\"Let'ssss goooo\")\n",
    "play_game(num)"
   ]
  },
  {
   "cell_type": "code",
   "execution_count": 12,
   "id": "73829b85-86ae-48fd-b5a5-096ae4af8b58",
   "metadata": {},
   "outputs": [
    {
     "name": "stdin",
     "output_type": "stream",
     "text": [
      "Enter a string:  Sanika\n",
      "Enter the character to count:  a\n"
     ]
    },
    {
     "name": "stdout",
     "output_type": "stream",
     "text": [
      "The character 'a' appears 2 times in the string.\n"
     ]
    }
   ],
   "source": [
    "#Write a program to print the no. of occurences of a given character in a given string (without using count method).\n",
    "\n",
    "string = input(\"Enter a string: \")\n",
    "char = input(\"Enter the character to count: \")\n",
    "\n",
    "char_count = 0\n",
    "\n",
    "for c in string:\n",
    "    if c == char:\n",
    "        char_count += 1\n",
    "\n",
    "print(f\"The character '{char}' appears {char_count} times in the string.\")"
   ]
  },
  {
   "cell_type": "code",
   "execution_count": 14,
   "id": "1dd48c37-9b57-4cc1-b229-a304517f0849",
   "metadata": {},
   "outputs": [
    {
     "name": "stdin",
     "output_type": "stream",
     "text": [
      "Enter the number 3\n"
     ]
    },
    {
     "name": "stdout",
     "output_type": "stream",
     "text": [
      "Fizz\n"
     ]
    }
   ],
   "source": [
    "#write a fizzbuzz program.\n",
    "# hint - if the number is divisible to 3 print 'Fizz', if divisible by 5 means print 'Buzz'\n",
    "# if divisible by both 3 and 5 means print 'FizzBuzz'\n",
    "\n",
    "number=int(input(\"Enter the number\"))\n",
    "if(number%3==0):\n",
    "    print(\"Fizz\")\n",
    "elif(number%5==0):\n",
    "    print(\"Buzz\")\n",
    "else:\n",
    "    print(\"FizzBuzz\")"
   ]
  },
  {
   "cell_type": "code",
   "execution_count": 22,
   "id": "c0d587fc-3775-41d3-bee0-2bada5026aa2",
   "metadata": {},
   "outputs": [
    {
     "name": "stdin",
     "output_type": "stream",
     "text": [
      "Enter the desired password length (min 8):  8\n"
     ]
    },
    {
     "name": "stdout",
     "output_type": "stream",
     "text": [
      "Generated Password: &&j0Q0by\n"
     ]
    }
   ],
   "source": [
    "#give length of the password as input from the user and create a random password generator program which contain alphabet, number and special characters.\n",
    "\n",
    "import random\n",
    "import string\n",
    "def generate_password(length):\n",
    "    if length < 8:\n",
    "        return \"Password length should be at least 8 characters.\"\n",
    "    letters = string.ascii_letters  \n",
    "    digits = string.digits  \n",
    "    special_chars = string.punctuation  \n",
    "    password = [\n",
    "        random.choice(letters),\n",
    "        random.choice(digits),\n",
    "        random.choice(special_chars)\n",
    "    ]\n",
    "    \n",
    "    all_chars = letters + digits + special_chars\n",
    "    password += random.choices(all_chars, k=length - 3)\n",
    "    random.shuffle(password)\n",
    "    return \"\".join(password)\n",
    "length = int(input(\"Enter the desired password length (min 8): \"))\n",
    "print(\"Generated Password:\", generate_password(length))"
   ]
  },
  {
   "cell_type": "code",
   "execution_count": 24,
   "id": "f9cd1d81-f162-4a31-bc42-0ea20fa00b64",
   "metadata": {},
   "outputs": [
    {
     "name": "stdin",
     "output_type": "stream",
     "text": [
      "Player 1, enter rock, paper, or scissors:  rock\n",
      "Player 2, enter rock, paper, or scissors:  paper\n"
     ]
    },
    {
     "name": "stdout",
     "output_type": "stream",
     "text": [
      "Player 2 wins!\n"
     ]
    }
   ],
   "source": [
    "# Take input from two players\n",
    "player1 = input(\"Player 1, enter rock, paper, or scissors: \").lower()\n",
    "player2 = input(\"Player 2, enter rock, paper, or scissors: \").lower()\n",
    "\n",
    "# Define the game rules\n",
    "if player1 == player2:\n",
    "    print(\"It's a tie!\")\n",
    "elif (player1 == \"rock\" and player2 == \"scissors\") or \\\n",
    "     (player1 == \"scissors\" and player2 == \"paper\") or \\\n",
    "     (player1 == \"paper\" and player2 == \"rock\"):\n",
    "    print(\"Player 1 wins!\")\n",
    "elif (player2 == \"rock\" and player1 == \"scissors\") or \\\n",
    "     (player2 == \"scissors\" and player1 == \"paper\") or \\\n",
    "     (player2 == \"paper\" and player1 == \"rock\"):\n",
    "    print(\"Player 2 wins!\")\n",
    "else:\n",
    "    print(\"Invalid input! Please enter rock, paper, or scissors.\")"
   ]
  },
  {
   "cell_type": "code",
   "execution_count": null,
   "id": "0b48efc6-32f3-442c-a9ff-d4c27fd126b0",
   "metadata": {},
   "outputs": [],
   "source": []
  }
 ],
 "metadata": {
  "kernelspec": {
   "display_name": "Python 3 (ipykernel)",
   "language": "python",
   "name": "python3"
  },
  "language_info": {
   "codemirror_mode": {
    "name": "ipython",
    "version": 3
   },
   "file_extension": ".py",
   "mimetype": "text/x-python",
   "name": "python",
   "nbconvert_exporter": "python",
   "pygments_lexer": "ipython3",
   "version": "3.12.7"
  }
 },
 "nbformat": 4,
 "nbformat_minor": 5
}
