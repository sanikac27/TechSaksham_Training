"""
Day 3 - Python Introduction & Data Structures
This notebook covers:
1. Python Introduction
2. Data Structures: List, Tuple, Dictionary
3. Conditional Statements (if-elif-else)
4. Looping (for, while)
"""

# 1️⃣ Introduction to Python
print("Hello, World!")

# 2️⃣ Lists - Mutable Ordered Collection
fruits = ["apple", "banana", "cherry"]
print(fruits)

fruits.append("orange")  # Adding an item
print(fruits)

fruits.remove("banana")  # Removing an item
print(fruits)

# 3️⃣ Tuples - Immutable Ordered Collection
coordinates = (10.5, 20.3)
print(coordinates)
print(coordinates[0])  # Accessing elements

# 4️⃣ Dictionaries - Key-Value Pairs
student = {"name": "Sanika", "age": 20, "course": "Python"}
print(student["name"])

student["age"] = 21  # Updating a value
print(student)

# 5️⃣ Conditional Statements
age = 18
if age >= 18:
    print("You are eligible to vote.")
elif age == 17:
    print("You will be eligible next year.")
else:
    print("You are not eligible to vote.")

# 6️⃣ Looping in Python
## For Loop
for num in range(1, 6):
    print(num)

## While Loop
count = 0
while count < 5:
    print("Count:", count)
    count += 1
