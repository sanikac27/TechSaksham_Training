{
 "cells": [
  {
   "cell_type": "code",
   "execution_count": 3,
   "id": "4849ae82-3a6b-417e-b904-18d90b04b632",
   "metadata": {},
   "outputs": [
    {
     "name": "stdout",
     "output_type": "stream",
     "text": [
      "Requirement already satisfied: mysql-connector.python in d:\\anakonda\\lib\\site-packages (9.2.0)\n",
      "Note: you may need to restart the kernel to use updated packages.\n"
     ]
    }
   ],
   "source": [
    "pip install mysql-connector.python"
   ]
  },
  {
   "cell_type": "code",
   "execution_count": 4,
   "id": "7808d592-ea71-49fb-84c4-db6875d97755",
   "metadata": {},
   "outputs": [
    {
     "name": "stdout",
     "output_type": "stream",
     "text": [
      "Requirement already satisfied: mysql-connector.python in d:\\anakonda\\lib\\site-packages (9.2.0)\n",
      "Note: you may need to restart the kernel to use updated packages.\n"
     ]
    }
   ],
   "source": [
    "pip install mysql-connector.python"
   ]
  },
  {
   "cell_type": "code",
   "execution_count": 6,
   "id": "ec15bb83-9bae-4721-8b09-dfb95043ea5a",
   "metadata": {},
   "outputs": [
    {
     "name": "stdout",
     "output_type": "stream",
     "text": [
      "<mysql.connector.connection_cext.CMySQLConnection object at 0x0000016BDAE70F80>\n"
     ]
    }
   ],
   "source": [
    "import mysql.connector\n",
    "db=mysql.connector.connect(\n",
    "    host=\"localhost\",\n",
    "    user=\"root\",\n",
    "    password=\"root\")\n",
    "print (db)"
   ]
  },
  {
   "cell_type": "code",
   "execution_count": 11,
   "id": "92b3be05-d68e-4500-8579-756f9fd2f1af",
   "metadata": {},
   "outputs": [],
   "source": [
    "dbcursor=db.cursor()\n",
    "dbcursor.execute(\"create database if not exists booklist\")"
   ]
  },
  {
   "cell_type": "code",
   "execution_count": 14,
   "id": "5ba7f0ea-788b-433e-8da9-73489b6074e9",
   "metadata": {},
   "outputs": [],
   "source": [
    "dbcursor.execute(\"show databases\")"
   ]
  },
  {
   "cell_type": "code",
   "execution_count": 15,
   "id": "0192c406-6660-41d8-84e8-7fc6fa8f1ea1",
   "metadata": {},
   "outputs": [
    {
     "name": "stdout",
     "output_type": "stream",
     "text": [
      "('a66',)\n",
      "('alloc8_ajp_project',)\n",
      "('assignment_schema',)\n",
      "('booklist',)\n",
      "('countries',)\n",
      "('customer_order',)\n",
      "('customer_orders',)\n",
      "('dbe',)\n",
      "('employee',)\n",
      "('hr',)\n",
      "('information_schema',)\n",
      "('mysql',)\n",
      "('performance_schema',)\n",
      "('sakila',)\n",
      "('sys',)\n",
      "('temp_schema',)\n",
      "('world',)\n"
     ]
    }
   ],
   "source": [
    "for i in dbcursor:\n",
    "    print(i)\n",
    "    "
   ]
  },
  {
   "cell_type": "code",
   "execution_count": null,
   "id": "39e18551-69ba-45d1-8afb-ff610c6d9ad8",
   "metadata": {},
   "outputs": [],
   "source": []
  }
 ],
 "metadata": {
  "kernelspec": {
   "display_name": "Python 3 (ipykernel)",
   "language": "python",
   "name": "python3"
  },
  "language_info": {
   "codemirror_mode": {
    "name": "ipython",
    "version": 3
   },
   "file_extension": ".py",
   "mimetype": "text/x-python",
   "name": "python",
   "nbconvert_exporter": "python",
   "pygments_lexer": "ipython3",
   "version": "3.12.7"
  }
 },
 "nbformat": 4,
 "nbformat_minor": 5
}
